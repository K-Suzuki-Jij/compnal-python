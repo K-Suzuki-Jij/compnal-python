{
 "cells": [
  {
   "cell_type": "code",
   "execution_count": 1,
   "id": "fc272297-a8ab-49b9-88a8-4a4a40f5ed2a",
   "metadata": {},
   "outputs": [],
   "source": [
    "import compnal\n",
    "import matplotlib.pyplot as plt"
   ]
  },
  {
   "cell_type": "code",
   "execution_count": 4,
   "id": "8595e609-1bb4-4ce3-9751-dd1db1cce617",
   "metadata": {},
   "outputs": [],
   "source": [
    "N = 16\n",
    "S = 1\n",
    "J = 1.0\n",
    "J_BQ = -0.4\n",
    "model = compnal.model.U1Spin_1D(system_size = N, spin = S)\n",
    "\n",
    "Sp = model.sp\n",
    "Sm = model.sm\n",
    "Sz = model.sz\n",
    "for i in range(N - 1):\n",
    "    model.add_interaction(1.0*J, Sz, i, Sz, i+1)\n",
    "    model.add_interaction(0.5*J, Sp, i, Sm, i+1)\n",
    "    model.add_interaction(0.5*J, Sm, i, Sp, i+1)\n",
    "    \n",
    "    model.add_interaction(1.00*J_BQ, Sz*Sz, i, Sz*Sz, i+1)\n",
    "    model.add_interaction(0.25*J_BQ, Sp*Sp, i, Sm*Sm, i+1)\n",
    "    model.add_interaction(0.25*J_BQ, Sm*Sm, i, Sp*Sp, i+1)\n",
    "    \n",
    "    model.add_interaction(+0.5*J_BQ, Sz*Sp, i, Sz*Sm, i+1)\n",
    "    model.add_interaction(+0.5*J_BQ, Sp*Sz, i, Sm*Sz, i+1)\n",
    "    \n",
    "    model.add_interaction(+0.5*J_BQ, Sz*Sm, i, Sz*Sp, i+1)\n",
    "    model.add_interaction(+0.5*J_BQ, Sm*Sz, i, Sp*Sz, i+1)\n",
    "    \n",
    "    model.add_interaction(+0.25*J_BQ, Sp*Sm, i, Sm*Sp, i+1)\n",
    "    model.add_interaction(+0.25*J_BQ, Sm*Sp, i, Sp*Sm, i+1)"
   ]
  },
  {
   "cell_type": "code",
   "execution_count": 5,
   "id": "a186bbe8-06af-4421-a88d-d2e4f770dc13",
   "metadata": {},
   "outputs": [
    {
     "name": "stdout",
     "output_type": "stream",
     "text": [
      "Elapsed time of generating basis:1.4568[sec]\n",
      "Elapsed time of generating Hamiltonian:10.7475[sec]\n",
      "Elapsed time of diagonalization:14.072428[sec] (7.1054274e-15)\n",
      "Elapsed time of conjugate_gradient:6.242994[sec] (6.7497848e-08)\n",
      "Elapsed time of inverse iteration:6.567046[sec] (3.6643015e-11)\n"
     ]
    }
   ],
   "source": [
    "ed = compnal.solver.ExactDiag(model)\n",
    "ed.calculate_ground_state()"
   ]
  },
  {
   "cell_type": "code",
   "execution_count": 7,
   "id": "4c5d28ac-8cb6-4d49-a1d8-728fa6bf4892",
   "metadata": {},
   "outputs": [
    {
     "name": "stdout",
     "output_type": "stream",
     "text": [
      "Elapsed time of generating basis:1.397729[sec]\n",
      "Elapsed time of generating basis:1.320092[sec]\n"
     ]
    }
   ],
   "source": [
    "szsz = []\n",
    "sxsx = []\n",
    "for i in range(N):\n",
    "    szsz.append(ed.calculate_correlation_function(model.sz, 0, model.sz, i))\n",
    "    sxsx.append(ed.calculate_correlation_function(model.sx, 0, model.sx, i))"
   ]
  },
  {
   "cell_type": "code",
   "execution_count": 8,
   "id": "e423cf25-5608-449f-92b1-6fc40469ca9d",
   "metadata": {},
   "outputs": [
    {
     "name": "stdout",
     "output_type": "stream",
     "text": [
      "[0.6666666666667062, -0.5917567561143003, 0.26273549949364194, -0.2621560263015583, 0.17928288441882773, -0.18446802781200802, 0.141105967707293, -0.14887151133636936, 0.11868100763549061, -0.12885301173864053, 0.10301494903699888, -0.11609458962301293, 0.08904934304489498, -0.10599464608250617, 0.0698645739637585, -0.09220632295927927]\n",
      "[0.6666666666667217, -0.5917567561142629, 0.26273549949363917, -0.2621560263015442, 0.17928288441882412, -0.18446802781200555, 0.14110596770728862, -0.14887151133636445, 0.11868100763548665, -0.1288530117386429, 0.10301494903699615, -0.11609458962301303, 0.08904934304489122, -0.10599464608250511, 0.06986457396375971, -0.09220632295928097]\n"
     ]
    }
   ],
   "source": [
    "print(szsz)\n",
    "print(sxsx)"
   ]
  },
  {
   "cell_type": "code",
   "execution_count": null,
   "id": "da8086f5-a9b1-4eb1-b0bd-30b38bf2e908",
   "metadata": {},
   "outputs": [],
   "source": []
  }
 ],
 "metadata": {
  "kernelspec": {
   "display_name": "Python 3 (ipykernel)",
   "language": "python",
   "name": "python3"
  },
  "language_info": {
   "codemirror_mode": {
    "name": "ipython",
    "version": 3
   },
   "file_extension": ".py",
   "mimetype": "text/x-python",
   "name": "python",
   "nbconvert_exporter": "python",
   "pygments_lexer": "ipython3",
   "version": "3.9.9"
  }
 },
 "nbformat": 4,
 "nbformat_minor": 5
}
