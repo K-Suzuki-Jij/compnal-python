{
 "cells": [
  {
   "cell_type": "code",
   "execution_count": 1,
   "id": "985a2771-ec0b-45e1-8177-c94fc47aa34b",
   "metadata": {},
   "outputs": [],
   "source": [
    "import compnal\n",
    "import matplotlib.pyplot as plt"
   ]
  },
  {
   "cell_type": "code",
   "execution_count": 2,
   "id": "2dcfa893-ddf1-452c-85d5-26e7399d7a53",
   "metadata": {},
   "outputs": [],
   "source": [
    "model = compnal.model.Hubbard_1D(system_size=13, total_electron=13, boundary_condition=compnal.model.BoundaryCondition.OBC)\n",
    "model.total_sz = 0.5\n",
    "model.set_t(1.0)\n",
    "model.set_U(1.0)\n",
    "model.set_h_z(0.0)\n",
    "model.set_V(-3.0)"
   ]
  },
  {
   "cell_type": "code",
   "execution_count": 3,
   "id": "08d9e585-4a97-4eae-8af9-e43a93419f58",
   "metadata": {},
   "outputs": [],
   "source": [
    "solver = compnal.solver.ExactDiag(model)"
   ]
  },
  {
   "cell_type": "code",
   "execution_count": 4,
   "id": "e79d5fa9-fb22-4193-9a0f-72bdfce60935",
   "metadata": {},
   "outputs": [
    {
     "name": "stdout",
     "output_type": "stream",
     "text": [
      "Elapsed time of diagonalization:28.933774[sec] (0)\n",
      "Elapsed time of conjugate_gradient:22.021797[sec] (6.7742263e-08)\n",
      "Elapsed time of inverse iteration:22.216448[sec] (5.0366605e-12)\n"
     ]
    }
   ],
   "source": [
    "solver.calculate_ground_state()"
   ]
  },
  {
   "cell_type": "code",
   "execution_count": 5,
   "id": "12d08bfe-12d4-4756-b7d1-cf8dcd89733f",
   "metadata": {},
   "outputs": [
    {
     "name": "stdout",
     "output_type": "stream",
     "text": [
      "Generating Basis...0 6.64151262197513e-05\n",
      "1 -0.0003977840846706953\n",
      "2 0.0022219205743093198\n",
      "3 -0.006031983812481986\n",
      "4 -0.0013180189396443868\n",
      "5 -0.00021003836580458086\n",
      "6 -5.484507938892448e-05\n",
      "7 -0.00014787775373051754\n",
      "8 -0.0008576249672702837\n",
      "9 -0.0025967255724631804\n",
      "10 0.0010405237399887268\n",
      "11 -0.00019598604270113372\n",
      "12 3.432862187474479e-05\n"
     ]
    }
   ],
   "source": [
    "for i in range(model.system_size):\n",
    "    v = solver.calculate_correlation_function(solver.model.c_up_dagger, 0, solver.model.c_up, i)\n",
    "    print(i, v)"
   ]
  },
  {
   "cell_type": "code",
   "execution_count": 6,
   "id": "56440ffe-e018-49f2-943f-6f2339e9df91",
   "metadata": {},
   "outputs": [
    {
     "ename": "AttributeError",
     "evalue": "'compnal.model.Hubbard_1D' object has no attribute 'num_electron_orbital'",
     "output_type": "error",
     "traceback": [
      "\u001b[0;31m---------------------------------------------------------------------------\u001b[0m",
      "\u001b[0;31mAttributeError\u001b[0m                            Traceback (most recent call last)",
      "\u001b[0;32m/var/folders/c0/l12k5jhd3y11h21zq08lp0vh0000gn/T/ipykernel_30025/1522566758.py\u001b[0m in \u001b[0;36m<module>\u001b[0;34m\u001b[0m\n\u001b[0;32m----> 1\u001b[0;31m \u001b[0mmodel\u001b[0m\u001b[0;34m.\u001b[0m\u001b[0mnum_electron_orbital\u001b[0m\u001b[0;34m\u001b[0m\u001b[0;34m\u001b[0m\u001b[0m\n\u001b[0m",
      "\u001b[0;31mAttributeError\u001b[0m: 'compnal.model.Hubbard_1D' object has no attribute 'num_electron_orbital'"
     ]
    }
   ],
   "source": [
    "model.num_electron_orbital"
   ]
  },
  {
   "cell_type": "code",
   "execution_count": null,
   "id": "ebc2cd42-a774-464b-9509-b6c564acbf2c",
   "metadata": {},
   "outputs": [],
   "source": []
  }
 ],
 "metadata": {
  "kernelspec": {
   "display_name": "Python 3 (ipykernel)",
   "language": "python",
   "name": "python3"
  },
  "language_info": {
   "codemirror_mode": {
    "name": "ipython",
    "version": 3
   },
   "file_extension": ".py",
   "mimetype": "text/x-python",
   "name": "python",
   "nbconvert_exporter": "python",
   "pygments_lexer": "ipython3",
   "version": "3.9.9"
  }
 },
 "nbformat": 4,
 "nbformat_minor": 5
}
